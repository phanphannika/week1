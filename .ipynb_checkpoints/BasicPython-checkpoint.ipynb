{
 "cells": [
  {
   "cell_type": "code",
   "execution_count": 3,
   "id": "0e70c18c-8748-4521-ad50-44384bcc8ddf",
   "metadata": {},
   "outputs": [
    {
     "name": "stdout",
     "output_type": "stream",
     "text": [
      "Hello, World\n"
     ]
    }
   ],
   "source": [
    "print(\"Hello, World\")"
   ]
  },
  {
   "cell_type": "code",
   "execution_count": null,
   "id": "639d5cd3-9b8c-48dd-b217-e38ee2a52a72",
   "metadata": {},
   "outputs": [],
   "source": []
  },
  {
   "cell_type": "code",
   "execution_count": 5,
   "id": "57f6eb83-8889-4413-bb7b-759afac33140",
   "metadata": {},
   "outputs": [
    {
     "name": "stdout",
     "output_type": "stream",
     "text": [
      "Five is greater than two!\n"
     ]
    }
   ],
   "source": [
    "# python syntax\n",
    "if 5 > 2:\n",
    "    print(\"Five is greater than two!\")\n",
    "    "
   ]
  },
  {
   "cell_type": "code",
   "execution_count": 9,
   "id": "51ffeccc-5bfb-45f8-9a53-87a2fde22c4e",
   "metadata": {},
   "outputs": [
    {
     "name": "stdout",
     "output_type": "stream",
     "text": [
      "Hello, world\n",
      "hello, world\n"
     ]
    }
   ],
   "source": [
    "# this is comment \n",
    "print(\"Hello, world\")\n",
    "print(\"hello, world\") # this is comment\n",
    "\n"
   ]
  },
  {
   "cell_type": "code",
   "execution_count": 13,
   "id": "86e01cec-dfa2-4c9a-9adf-e65276adc309",
   "metadata": {},
   "outputs": [
    {
     "name": "stdout",
     "output_type": "stream",
     "text": [
      "5\n",
      "Nika\n"
     ]
    }
   ],
   "source": [
    "# python variable\n",
    "x = 5\n",
    "y = \"Nika\"\n",
    "print(x)\n",
    "print(y)\n"
   ]
  },
  {
   "cell_type": "code",
   "execution_count": 19,
   "id": "528945ad-821e-477b-a40c-e7d4b7657c27",
   "metadata": {},
   "outputs": [
    {
     "name": "stdout",
     "output_type": "stream",
     "text": [
      "3\n",
      "3\n",
      "3.0\n"
     ]
    }
   ],
   "source": [
    "# Casting : if you want to specify the data type of a variable, this can be done with casting\n",
    "x = str(3) # x will be '3'\n",
    "y = int(3) # x will be 3\n",
    "z = float(3) # z will be 3.0\n",
    "print(x)\n",
    "print(y)\n",
    "print(z)"
   ]
  },
  {
   "cell_type": "code",
   "execution_count": 23,
   "id": "c2ec0e69-69ed-4e25-b303-0efb8f9bdeea",
   "metadata": {},
   "outputs": [
    {
     "name": "stdout",
     "output_type": "stream",
     "text": [
      "<class 'int'>\n",
      "<class 'str'>\n"
     ]
    }
   ],
   "source": [
    "# how to get type: you can get the data type of a variable with the type() function \n",
    "x = 5\n",
    "y = \"John\"\n",
    "print(type(x))\n",
    "print(type(y))"
   ]
  },
  {
   "cell_type": "code",
   "execution_count": 29,
   "id": "75aa0a93-c242-4cf7-aef2-f287ee00bc7f",
   "metadata": {},
   "outputs": [
    {
     "name": "stdout",
     "output_type": "stream",
     "text": [
      "<class 'str'>\n",
      "<class 'str'>\n"
     ]
    }
   ],
   "source": [
    "# Single or Double quotes: string variables can be declared either by using single or double quote\n",
    "x = \"John\"\n",
    "y = 'John'\n",
    "print(type(x))\n",
    "print(type(y))\n"
   ]
  },
  {
   "cell_type": "code",
   "execution_count": 33,
   "id": "5ed9bc87-75a1-4509-aca5-d1e7ef47726f",
   "metadata": {},
   "outputs": [
    {
     "name": "stdout",
     "output_type": "stream",
     "text": [
      "4\n",
      "salary\n"
     ]
    }
   ],
   "source": [
    "# variable name are case-sensitive\n",
    "a = 4\n",
    "A = \"salary\"\n",
    "print(a)\n",
    "print(A)\n"
   ]
  },
  {
   "cell_type": "code",
   "execution_count": null,
   "id": "06d69579-4af5-4c72-8a9f-e4048886c911",
   "metadata": {},
   "outputs": [],
   "source": []
  },
  {
   "cell_type": "code",
   "execution_count": 36,
   "id": "c1c252b2-0233-4ef7-8827-2f4959dbf38f",
   "metadata": {},
   "outputs": [
    {
     "ename": "SyntaxError",
     "evalue": "invalid decimal literal (194784362.py, line 9)",
     "output_type": "error",
     "traceback": [
      "\u001b[1;36m  Cell \u001b[1;32mIn[36], line 9\u001b[1;36m\u001b[0m\n\u001b[1;33m    2myvar = \"John\"\u001b[0m\n\u001b[1;37m    ^\u001b[0m\n\u001b[1;31mSyntaxError\u001b[0m\u001b[1;31m:\u001b[0m invalid decimal literal\n"
     ]
    }
   ],
   "source": [
    "# variable name : Legal variable name\n",
    "myvar = \"John\"\n",
    "my_var = \"John\"\n",
    "_my_var = \"John\"\n",
    "myVar = \"John\"\n",
    "MYVAR = \"John\"\n",
    "myvar2 = \"John\"\n",
    "# variable name :illegal variable name\n",
    "2myvar = \"John\"\n",
    "my-var = \"John\"\n",
    "my var = \"John\"\n"
   ]
  },
  {
   "cell_type": "code",
   "execution_count": 40,
   "id": "f832a938-cfc2-4890-8e2d-004710c5ec01",
   "metadata": {},
   "outputs": [
    {
     "name": "stdout",
     "output_type": "stream",
     "text": [
      "John\n"
     ]
    }
   ],
   "source": [
    "# Camel Case\n",
    "myVariableName = \"John\"\n",
    "print(myVariableName)"
   ]
  },
  {
   "cell_type": "code",
   "execution_count": 44,
   "id": "aff8c291-c310-407b-827d-cc9f907405ed",
   "metadata": {},
   "outputs": [
    {
     "name": "stdout",
     "output_type": "stream",
     "text": [
      "John\n"
     ]
    }
   ],
   "source": [
    "# Pascal Case\n",
    "MyVariableName = \"John\"\n",
    "print(MyVariableName)\n"
   ]
  },
  {
   "cell_type": "code",
   "execution_count": 48,
   "id": "d74c7df1-f828-48f5-bec7-4bc990692e28",
   "metadata": {},
   "outputs": [
    {
     "name": "stdout",
     "output_type": "stream",
     "text": [
      "John\n"
     ]
    }
   ],
   "source": [
    "# snake case\n",
    "my_variable_name = \"John\"\n",
    "print(my_variable_name)\n"
   ]
  },
  {
   "cell_type": "code",
   "execution_count": 52,
   "id": "10c24bc6-879d-4b97-9538-9d7691888702",
   "metadata": {},
   "outputs": [
    {
     "name": "stdout",
     "output_type": "stream",
     "text": [
      "Orange\n",
      "Banna\n",
      "Cherry\n"
     ]
    }
   ],
   "source": [
    "# Pyhtin Variable - Assign Multiple Values\n",
    "x, y, z = \"Orange\", \"Banna\", \"Cherry\"\n",
    "print(x)\n",
    "print(y)\n",
    "print(z)"
   ]
  },
  {
   "cell_type": "code",
   "execution_count": 56,
   "id": "b5d86d7f-7d2d-48c5-926c-d03a92d1135e",
   "metadata": {},
   "outputs": [
    {
     "name": "stdout",
     "output_type": "stream",
     "text": [
      "Orange\n",
      "Orange\n",
      "Orange\n"
     ]
    }
   ],
   "source": [
    "# On value to multiple value\n",
    "x = y = z = \"Orange\"\n",
    "print(x)\n",
    "print(y)\n",
    "print(z)\n",
    "\n"
   ]
  },
  {
   "cell_type": "code",
   "execution_count": 64,
   "id": "a8b13bad-5c7d-4ac3-9e91-8eeed73a00e2",
   "metadata": {},
   "outputs": [
    {
     "name": "stdout",
     "output_type": "stream",
     "text": [
      "apple\n",
      "banna\n",
      "cherry\n"
     ]
    }
   ],
   "source": [
    "# unpack a collection: if you have a collection of values in a list, tuple etc. \n",
    "# Python allows you to extract the values into variables. this is called unpacking\n",
    "fruits = [\"apple\", \"banna\", \"cherry\"]\n",
    "x, y, z = fruits\n",
    "print(x)\n",
    "print(y)\n",
    "print(z)\n"
   ]
  },
  {
   "cell_type": "code",
   "execution_count": 68,
   "id": "e87364b2-0546-44cb-9f4f-cb3752c0c440",
   "metadata": {},
   "outputs": [
    {
     "name": "stdout",
     "output_type": "stream",
     "text": [
      "Python is awesome\n"
     ]
    }
   ],
   "source": [
    "# Output Variables: the python print() function is often used to output variables\n",
    "x = \"Python is awesome\"\n",
    "print(x)"
   ]
  },
  {
   "cell_type": "code",
   "execution_count": 72,
   "id": "6fccd374-c760-4a77-b1ec-c363aa9bb3d0",
   "metadata": {},
   "outputs": [
    {
     "name": "stdout",
     "output_type": "stream",
     "text": [
      "Python is awesome\n"
     ]
    }
   ],
   "source": [
    "# In python print() function, we can output multiple variables by separeted by a comma\n",
    "x = \"Python\"\n",
    "y = \"is\"\n",
    "z = \"awesome\"\n",
    "print(x, y, z)"
   ]
  },
  {
   "cell_type": "code",
   "execution_count": 114,
   "id": "7da7a7f2-aedf-46db-97a6-6ccd0959371c",
   "metadata": {},
   "outputs": [
    {
     "name": "stdout",
     "output_type": "stream",
     "text": [
      "Python is awesome\n"
     ]
    }
   ],
   "source": [
    "# we can also use the + operator to output multiple variables\n",
    "x = \"Python \"\n",
    "y = \"is \"\n",
    "z = \"awesome\"\n",
    "print(x + y + z)\n"
   ]
  },
  {
   "cell_type": "code",
   "execution_count": 88,
   "id": "d119175e-7a18-462a-bed5-5b6fef6871f2",
   "metadata": {},
   "outputs": [
    {
     "name": "stdout",
     "output_type": "stream",
     "text": [
      "15\n"
     ]
    }
   ],
   "source": [
    "# for number the + operator works as a mathematical operator \n",
    "x = 5 \n",
    "y = 10\n",
    "print(x+y)"
   ]
  },
  {
   "cell_type": "code",
   "execution_count": 92,
   "id": "8a2ca257-a9d1-4d51-acf9-7fa0fe9c3703",
   "metadata": {},
   "outputs": [
    {
     "ename": "TypeError",
     "evalue": "unsupported operand type(s) for +: 'int' and 'str'",
     "output_type": "error",
     "traceback": [
      "\u001b[1;31m---------------------------------------------------------------------------\u001b[0m",
      "\u001b[1;31mTypeError\u001b[0m                                 Traceback (most recent call last)",
      "Cell \u001b[1;32mIn[92], line 4\u001b[0m\n\u001b[0;32m      2\u001b[0m x \u001b[38;5;241m=\u001b[39m \u001b[38;5;241m5\u001b[39m\n\u001b[0;32m      3\u001b[0m y \u001b[38;5;241m=\u001b[39m \u001b[38;5;124m\"\u001b[39m\u001b[38;5;124mJohn\u001b[39m\u001b[38;5;124m\"\u001b[39m\n\u001b[1;32m----> 4\u001b[0m \u001b[38;5;28mprint\u001b[39m(x \u001b[38;5;241m+\u001b[39m y)\n",
      "\u001b[1;31mTypeError\u001b[0m: unsupported operand type(s) for +: 'int' and 'str'"
     ]
    }
   ],
   "source": [
    "# in print() function can not combine a string and a number with the + operator \n",
    "x = 5\n",
    "y = \"John\"\n",
    "print(x + y)"
   ]
  },
  {
   "cell_type": "code",
   "execution_count": 96,
   "id": "c9d6cac8-6c9c-4061-8537-6d9d465eb488",
   "metadata": {},
   "outputs": [
    {
     "name": "stdout",
     "output_type": "stream",
     "text": [
      "5 John\n"
     ]
    }
   ],
   "source": [
    "# the best way to output multi variable in the print() function is to separate them with commas\n",
    "x = 5\n",
    "y = \"John\"\n",
    "print(x, y)"
   ]
  },
  {
   "cell_type": "code",
   "execution_count": 110,
   "id": "2ca0a0af-3dee-477b-a6c4-46377c13fbf3",
   "metadata": {},
   "outputs": [
    {
     "name": "stdout",
     "output_type": "stream",
     "text": [
      "Python is awesome\n"
     ]
    }
   ],
   "source": [
    "# global variable : create outside function \n",
    "x = \"awesome\"\n",
    "def myfunc():\n",
    "    print(\"Python is \"+ x)\n",
    "myfunc()\n"
   ]
  },
  {
   "cell_type": "code",
   "execution_count": 116,
   "id": "405611ec-d2a2-41f4-b387-62af27864105",
   "metadata": {},
   "outputs": [
    {
     "name": "stdout",
     "output_type": "stream",
     "text": [
      "Python is fantastic\n",
      "Python is awesome\n"
     ]
    }
   ],
   "source": [
    "# if create variable inside function we call local variable \n",
    "# local Variable can only be used inside the function\n",
    "x = \"awesome\"\n",
    "\n",
    "def myfunc():\n",
    "    x = \"fantastic\"\n",
    "    print(\"Python is \" + x)\n",
    "myfunc()\n",
    "\n",
    "print(\"Python is \" + x)\n"
   ]
  },
  {
   "cell_type": "code",
   "execution_count": 128,
   "id": "d368f4de-3e87-428c-b0b5-ea98f1bf736a",
   "metadata": {},
   "outputs": [
    {
     "name": "stdout",
     "output_type": "stream",
     "text": [
      "fantastic\n",
      "Python is fantastic\n"
     ]
    }
   ],
   "source": [
    "# To create a global variable inside a function, we can use the global keyword\n",
    "def myfunc():\n",
    "    global x\n",
    "    x = \"fantastic\"\n",
    "    print(x)\n",
    "myfunc()\n",
    "\n",
    "print(\"Python is \" + x)"
   ]
  },
  {
   "cell_type": "code",
   "execution_count": 124,
   "id": "bbdc8d09-0363-4102-95ec-b218e0f9cac3",
   "metadata": {},
   "outputs": [],
   "source": [
    " ## built in data type\n",
    "# text type: str\n",
    "# numeric types: int, float, complex\n",
    "# sequence types: list, tuple, range\n",
    "# mapping type: dict\n",
    "# set types: set, frontzenset\n",
    "# boolean type: bool\n",
    "# binary type: bytes, bytearry, memoryview\n",
    "# none type: NoneType"
   ]
  },
  {
   "cell_type": "code",
   "execution_count": 130,
   "id": "d9eedaa7-7bf2-49f4-a0d3-8fe0390f3ecc",
   "metadata": {},
   "outputs": [
    {
     "name": "stdout",
     "output_type": "stream",
     "text": [
      "<class 'int'>\n"
     ]
    }
   ],
   "source": [
    "# get data type\n",
    "x = 5\n",
    "print(type(x))"
   ]
  },
  {
   "cell_type": "code",
   "execution_count": 134,
   "id": "34f261fa-98e5-43c6-9dec-e19cc0ecd1ce",
   "metadata": {},
   "outputs": [
    {
     "name": "stdout",
     "output_type": "stream",
     "text": [
      "<class 'int'>\n",
      "<class 'float'>\n",
      "<class 'complex'>\n"
     ]
    }
   ],
   "source": [
    "# python number\n",
    "x = 1 # int\n",
    "y = 2.8 # float \n",
    "z = 1j # complex\n",
    "print(type(x))\n",
    "print(type(y))\n",
    "print(type(z))"
   ]
  },
  {
   "cell_type": "code",
   "execution_count": 142,
   "id": "51b2a93d-6255-4389-ba4d-65ed265238df",
   "metadata": {},
   "outputs": [
    {
     "name": "stdout",
     "output_type": "stream",
     "text": [
      "1\n",
      "35656222554887711\n",
      "-3255522\n"
     ]
    }
   ],
   "source": [
    "# int\n",
    "x = 1\n",
    "y = 35656222554887711\n",
    "z = -3255522\n",
    "print(x)\n",
    "print(y)\n",
    "print(z)\n",
    " "
   ]
  },
  {
   "cell_type": "code",
   "execution_count": 150,
   "id": "e19e1463-7439-4e3c-ad0b-54eff9ee1a94",
   "metadata": {},
   "outputs": [
    {
     "name": "stdout",
     "output_type": "stream",
     "text": [
      "1.1\n",
      "1.0\n",
      "-35.59\n"
     ]
    }
   ],
   "source": [
    "# Float\n",
    "x = 1.10\n",
    "y = 1.0\n",
    "z = -35.59 \n",
    "print(x)\n",
    "print(y)\n",
    "print(z)\n"
   ]
  },
  {
   "cell_type": "code",
   "execution_count": 156,
   "id": "ffdc29ac-5183-4fbb-a72e-d725791c5533",
   "metadata": {},
   "outputs": [
    {
     "name": "stdout",
     "output_type": "stream",
     "text": [
      "(3+5j)\n",
      "5j\n",
      "(-0-5j)\n"
     ]
    }
   ],
   "source": [
    "# complex\n",
    "x = 3+5j\n",
    "y = 5j\n",
    "z = -5j\n",
    "print(x)\n",
    "print(y)\n",
    "print(z)"
   ]
  },
  {
   "cell_type": "code",
   "execution_count": null,
   "id": "5d398c91-0376-4d61-bd88-b941707fc52b",
   "metadata": {},
   "outputs": [],
   "source": []
  },
  {
   "cell_type": "code",
   "execution_count": 161,
   "id": "b5c99c3d-fade-473a-9eef-d0422adefa69",
   "metadata": {},
   "outputs": [
    {
     "name": "stdout",
     "output_type": "stream",
     "text": [
      "1.0\n",
      "2\n",
      "(1+0j)\n",
      "<class 'float'>\n",
      "<class 'int'>\n",
      "<class 'complex'>\n"
     ]
    }
   ],
   "source": [
    "# convert from one type to another \n",
    "x = 1 # int\n",
    "y = 2.8 # float\n",
    "z = 1j # complex\n",
    "\n",
    "# convert from int to float\n",
    "a = float(x)\n",
    "\n",
    "# convert from float to int\n",
    "b = int(y)\n",
    "\n",
    "# convert from int to complex\n",
    "c = complex(x)\n",
    "\n",
    "print(a)\n",
    "print(b)\n",
    "print(c)\n",
    "\n",
    "print(type(a))\n",
    "print(type(b))\n",
    "print(type(c))\n",
    "\n",
    "\n"
   ]
  },
  {
   "cell_type": "code",
   "execution_count": 169,
   "id": "c586ba98-6ea4-4b50-8f24-b3b28aa6f217",
   "metadata": {},
   "outputs": [
    {
     "name": "stdout",
     "output_type": "stream",
     "text": [
      "7\n"
     ]
    }
   ],
   "source": [
    "# random number : python don't have a random() function to make a random number\n",
    "# but python has a built-in module called random that can be used to make random numbers\n",
    "import random\n",
    "print(random.randrange(1,10))"
   ]
  },
  {
   "cell_type": "code",
   "execution_count": 175,
   "id": "901144d8-d7a6-423f-b1d9-6c8e54983013",
   "metadata": {},
   "outputs": [
    {
     "name": "stdout",
     "output_type": "stream",
     "text": [
      "1\n",
      "2\n",
      "3\n"
     ]
    }
   ],
   "source": [
    "# specify a variable type\n",
    "# integer\n",
    "x = int(1) # x will be 1\n",
    "y = int(2.8) # y will be 2\n",
    "z = int(\"3\") # z will be 3\n",
    "print(x)\n",
    "print(y)\n",
    "print(z)"
   ]
  },
  {
   "cell_type": "code",
   "execution_count": 179,
   "id": "f7d964dc-299b-4b06-8faa-157e619212bf",
   "metadata": {},
   "outputs": [
    {
     "name": "stdout",
     "output_type": "stream",
     "text": [
      "1.0\n",
      "2.8\n",
      "3.0\n",
      "4.2\n"
     ]
    }
   ],
   "source": [
    "# float\n",
    "x = float(1) # x will be 1.0\n",
    "y = float(2.8) # y will be 2.8\n",
    "z = float(\"3\") # z will be 3.0\n",
    "w = float(\"4.2\") # w will be 4.2\n",
    "print(x)\n",
    "print(y)\n",
    "print(z)\n",
    "print(w)"
   ]
  },
  {
   "cell_type": "code",
   "execution_count": 183,
   "id": "126994fe-320f-49d9-bfd8-7573b41c4249",
   "metadata": {},
   "outputs": [
    {
     "name": "stdout",
     "output_type": "stream",
     "text": [
      "s1\n",
      "2\n",
      "3.0\n"
     ]
    }
   ],
   "source": [
    "# string\n",
    "x = str(\"s1\") # x will be 's1'\n",
    "y = str(2) # y will be '2'\n",
    "z = str(3.0) # z will be '3.0'\n",
    "print(x)\n",
    "print(y)\n",
    "print(z)"
   ]
  },
  {
   "cell_type": "code",
   "execution_count": 193,
   "id": "d02d04d9-82e3-401e-9db5-507473a76e31",
   "metadata": {},
   "outputs": [
    {
     "name": "stdout",
     "output_type": "stream",
     "text": [
      "hello\n",
      "hello\n"
     ]
    }
   ],
   "source": [
    "# python string : have single quote and double quote\n",
    "# 'hello' is the same as \"hello\"\n",
    "print(\"hello\")\n",
    "print('hello')"
   ]
  },
  {
   "cell_type": "code",
   "execution_count": 197,
   "id": "8ea49a39-9b7b-4fa5-afbf-96acd9ef3ada",
   "metadata": {},
   "outputs": [
    {
     "name": "stdout",
     "output_type": "stream",
     "text": [
      "It's alright\n",
      "He is called 'Johnny'\n",
      "He is called \"Johnny\"\n"
     ]
    }
   ],
   "source": [
    "# quote inside quote\n",
    "print(\"It's alright\")\n",
    "print(\"He is called 'Johnny'\")\n",
    "print('He is called \"Johnny\"')"
   ]
  },
  {
   "cell_type": "code",
   "execution_count": 201,
   "id": "eb432473-0de1-4058-b0cc-87d09fae64b6",
   "metadata": {},
   "outputs": [
    {
     "name": "stdout",
     "output_type": "stream",
     "text": [
      "Hello\n"
     ]
    }
   ],
   "source": [
    "# assign string to a variable\n",
    "a = \"Hello\"\n",
    "print(a)"
   ]
  },
  {
   "cell_type": "code",
   "execution_count": 206,
   "id": "605d68fe-787a-471a-9395-4943d575f84e",
   "metadata": {},
   "outputs": [
    {
     "name": "stdout",
     "output_type": "stream",
     "text": [
      " Welcome to learning coding, please take care of yourself. Take a rest and happy to learn\n"
     ]
    }
   ],
   "source": [
    "# mutliline string\n",
    "a = \"\"\" Welcome to learning coding, please take care of yourself. Take a rest and happy to learn\"\"\"\n",
    "print(a)"
   ]
  },
  {
   "cell_type": "code",
   "execution_count": 210,
   "id": "027d1101-fdd2-4c34-b86c-5ba2298a3fa0",
   "metadata": {},
   "outputs": [
    {
     "name": "stdout",
     "output_type": "stream",
     "text": [
      " Welcome to learning coding, \n",
      "please take care of yourself.\n",
      "Take a rest and happy to learn.\n"
     ]
    }
   ],
   "source": [
    "a = ''' Welcome to learning coding, \n",
    "please take care of yourself.\n",
    "Take a rest and happy to learn.'''\n",
    "print(a)"
   ]
  },
  {
   "cell_type": "code",
   "execution_count": 214,
   "id": "bfb41d7f-c5b9-46a5-af71-db97027be0c0",
   "metadata": {},
   "outputs": [
    {
     "name": "stdout",
     "output_type": "stream",
     "text": [
      "e\n"
     ]
    }
   ],
   "source": [
    "# string are arrays\n",
    "a = \"Hello, World\"\n",
    "print(a[1])"
   ]
  },
  {
   "cell_type": "code",
   "execution_count": 218,
   "id": "f147bb13-3413-4877-bafd-d1448fe5407e",
   "metadata": {},
   "outputs": [
    {
     "name": "stdout",
     "output_type": "stream",
     "text": [
      "b\n",
      "a\n",
      "n\n",
      "n\n",
      "a\n"
     ]
    }
   ],
   "source": [
    "# loop through a string\n",
    "for x in \"banna\":\n",
    "    print(x)"
   ]
  },
  {
   "cell_type": "code",
   "execution_count": 222,
   "id": "d733d84e-cc4a-49b2-812d-60754e444316",
   "metadata": {},
   "outputs": [
    {
     "name": "stdout",
     "output_type": "stream",
     "text": [
      "12\n"
     ]
    }
   ],
   "source": [
    "# string lenght\n",
    "a = \"Hello, World\"\n",
    "print(len(a))"
   ]
  },
  {
   "cell_type": "code",
   "execution_count": 226,
   "id": "3dab6958-505b-438f-b3ef-c501e4141f4e",
   "metadata": {},
   "outputs": [
    {
     "name": "stdout",
     "output_type": "stream",
     "text": [
      "True\n"
     ]
    }
   ],
   "source": [
    "# check string\n",
    "txt = \"The best things in life are free!\"\n",
    "print(\"free\" in txt)"
   ]
  },
  {
   "cell_type": "code",
   "execution_count": 230,
   "id": "ed94e7bd-8266-4577-a704-b507b9029dcc",
   "metadata": {},
   "outputs": [
    {
     "name": "stdout",
     "output_type": "stream",
     "text": [
      "Yes, 'free' is present.\n"
     ]
    }
   ],
   "source": [
    "# use if statement\n",
    "txt = \"The best things in life are free!\"\n",
    "if \"free\" in txt:\n",
    "    print(\"Yes, 'free' is present.\")"
   ]
  },
  {
   "cell_type": "code",
   "execution_count": 233,
   "id": "d16ee0b0-a051-4bd2-9bf8-fc1290784827",
   "metadata": {},
   "outputs": [
    {
     "name": "stdout",
     "output_type": "stream",
     "text": [
      "True\n"
     ]
    }
   ],
   "source": [
    "# check if not\n",
    "txt = \"The best things in life are free!\"\n",
    "print(\"expensive\" not in txt)"
   ]
  },
  {
   "cell_type": "code",
   "execution_count": 239,
   "id": "21e78043-f761-4bab-bab9-15efb4cfcdf8",
   "metadata": {},
   "outputs": [
    {
     "name": "stdout",
     "output_type": "stream",
     "text": [
      "No, 'expensive' is not present.\n"
     ]
    }
   ],
   "source": [
    "# use if statement\n",
    "txt = \"The best things in life are free!\"\n",
    "if \"expensive\" not in txt:\n",
    "    print(\"No, 'expensive' is not present.\")"
   ]
  },
  {
   "cell_type": "code",
   "execution_count": 2,
   "id": "995a340d-3117-48f3-ad94-c4fa1c0379ed",
   "metadata": {},
   "outputs": [
    {
     "name": "stdout",
     "output_type": "stream",
     "text": [
      "llo\n"
     ]
    }
   ],
   "source": [
    "# slicing : get the character from position 2 to 5 **The first character has index 0\n",
    "b = \"Hello, World\"\n",
    "print(b[2:5])"
   ]
  },
  {
   "cell_type": "code",
   "execution_count": 6,
   "id": "f5983a8a-edce-41a8-8a81-0e5b3d6ee5d0",
   "metadata": {},
   "outputs": [
    {
     "name": "stdout",
     "output_type": "stream",
     "text": [
      "Hello\n"
     ]
    }
   ],
   "source": [
    "# Slice from the start\n",
    "b = \"Hello, World\"\n",
    "print(b[:5])"
   ]
  },
  {
   "cell_type": "code",
   "execution_count": 10,
   "id": "354f52ed-4107-4670-b16d-1d1a117ea98f",
   "metadata": {},
   "outputs": [
    {
     "name": "stdout",
     "output_type": "stream",
     "text": [
      "llo, World\n"
     ]
    }
   ],
   "source": [
    "# Slice to the end : get the character from position 2, till to the end\n",
    "b = \"Hello, World\"\n",
    "print(b[2:])\n"
   ]
  },
  {
   "cell_type": "code",
   "execution_count": 14,
   "id": "e2cfc1dd-783b-4445-b4e8-d063cda76085",
   "metadata": {},
   "outputs": [
    {
     "name": "stdout",
     "output_type": "stream",
     "text": [
      "Wor\n"
     ]
    }
   ],
   "source": [
    "# negative indexing: use negative indexes to start the slice from the end of the string\n",
    "b = \"Hello, World\"\n",
    "print(b[-5:-2])"
   ]
  },
  {
   "cell_type": "code",
   "execution_count": 18,
   "id": "9acb5561-fb00-4a70-b22d-015c6c182f4a",
   "metadata": {},
   "outputs": [
    {
     "name": "stdout",
     "output_type": "stream",
     "text": [
      "HELLO, WORLD\n"
     ]
    }
   ],
   "source": [
    "# modify string\n",
    "# python has a set of built-in methods that we can use on string\n",
    "# upper() method returns the string in upper case\n",
    "a = \"Hello, World\"\n",
    "print(a.upper())"
   ]
  },
  {
   "cell_type": "code",
   "execution_count": 22,
   "id": "e5b2d79c-1b14-4c90-9c6f-e47e3c2667c9",
   "metadata": {},
   "outputs": [
    {
     "name": "stdout",
     "output_type": "stream",
     "text": [
      "hello, world\n"
     ]
    }
   ],
   "source": [
    "# lower case\n",
    "a = \"Hello, World\"\n",
    "print(a.lower())"
   ]
  },
  {
   "cell_type": "code",
   "execution_count": 26,
   "id": "1337c64d-d506-4893-ab4d-3450a50e1e60",
   "metadata": {},
   "outputs": [
    {
     "name": "stdout",
     "output_type": "stream",
     "text": [
      "Hello, World\n"
     ]
    }
   ],
   "source": [
    "# remove whitespace\n",
    "a = \"Hello, World\"\n",
    "print(a.strip())"
   ]
  },
  {
   "cell_type": "code",
   "execution_count": 32,
   "id": "118d0db3-7d85-41ea-9521-2beb71d3a51e",
   "metadata": {},
   "outputs": [
    {
     "name": "stdout",
     "output_type": "stream",
     "text": [
      "Jello, World\n"
     ]
    }
   ],
   "source": [
    "# replace string \n",
    "a = \"Hello, World\"\n",
    "print(a.replace(\"H\", \"J\"))"
   ]
  },
  {
   "cell_type": "code",
   "execution_count": 36,
   "id": "4d164cd7-e311-4b91-9817-46d79ac73a8b",
   "metadata": {},
   "outputs": [
    {
     "name": "stdout",
     "output_type": "stream",
     "text": [
      "['Hello', ' World']\n"
     ]
    }
   ],
   "source": [
    "# Split String \n",
    "# split() method returns a list where the text between the specificed separtor becomes the list items\n",
    "a = \"Hello, World\"\n",
    "print(a.split(\",\"))"
   ]
  },
  {
   "cell_type": "code",
   "execution_count": 40,
   "id": "f754a39c-6e86-4730-905d-4a20a8d15650",
   "metadata": {},
   "outputs": [
    {
     "name": "stdout",
     "output_type": "stream",
     "text": [
      "helloworld\n"
     ]
    }
   ],
   "source": [
    "# String Concatenation: combine two string we can use the + operator \n",
    "a = \"hello\"\n",
    "b = \"world\"\n",
    "c = a + b\n",
    "print(c)"
   ]
  },
  {
   "cell_type": "code",
   "execution_count": 44,
   "id": "911932b0-cd55-4e42-a8a7-6d241f48770b",
   "metadata": {},
   "outputs": [
    {
     "name": "stdout",
     "output_type": "stream",
     "text": [
      "Hello World\n"
     ]
    }
   ],
   "source": [
    "# add space between them\n",
    "a = \"Hello\"\n",
    "b = \"World\"\n",
    "c = a + \" \" + b\n",
    "print(c)"
   ]
  },
  {
   "cell_type": "code",
   "execution_count": 48,
   "id": "8dc0f74f-2fb6-4d42-b689-72a2a2cc9734",
   "metadata": {},
   "outputs": [
    {
     "name": "stdout",
     "output_type": "stream",
     "text": [
      "My name is John, I am 36\n"
     ]
    }
   ],
   "source": [
    "# Format string\n",
    "# F-String: was introduced in python 3.6\n",
    "# and now the preferred way of formatting string\n",
    "# create an f-string\n",
    "age = 36\n",
    "txt = f\"My name is John, I am {age}\"\n",
    "print(txt)"
   ]
  },
  {
   "cell_type": "code",
   "execution_count": 52,
   "id": "5bd235f7-aa4e-48d0-80d6-939ea061cc49",
   "metadata": {},
   "outputs": [
    {
     "name": "stdout",
     "output_type": "stream",
     "text": [
      "The price is 59 dollars\n"
     ]
    }
   ],
   "source": [
    "# add a placeholder for the price variable\n",
    "price = 59\n",
    "txt = f\"The price is {price} dollars\"\n",
    "print(txt)"
   ]
  },
  {
   "cell_type": "code",
   "execution_count": 56,
   "id": "5fc2cf7a-6c77-4356-ba45-6ac96239428d",
   "metadata": {},
   "outputs": [
    {
     "name": "stdout",
     "output_type": "stream",
     "text": [
      "The price is 59.00 dollars\n"
     ]
    }
   ],
   "source": [
    "# display the price with 2 decimals\n",
    "price = 59\n",
    "txt = f\"The price is {price:.2f} dollars\"\n",
    "print(txt)"
   ]
  },
  {
   "cell_type": "code",
   "execution_count": 62,
   "id": "6d1a47db-2751-4605-a925-066297b8fade",
   "metadata": {},
   "outputs": [
    {
     "name": "stdout",
     "output_type": "stream",
     "text": [
      "The price is 1180 dollars\n"
     ]
    }
   ],
   "source": [
    "# perform a math operation in the placeholder, and return the result\n",
    "txt = f\"The price is {20*59} dollars\"\n",
    "print(txt)"
   ]
  },
  {
   "cell_type": "code",
   "execution_count": 68,
   "id": "21714fe0-13e5-40f1-b1b9-188cd8bcfdfb",
   "metadata": {},
   "outputs": [
    {
     "name": "stdout",
     "output_type": "stream",
     "text": [
      "We are the so-called \"Vilkings\" from the north.\n"
     ]
    }
   ],
   "source": [
    "# escape character\n",
    "# to insert character that are illegal in a string, use an escape character \\\n",
    "txt = \"We are the so-called \\\"Vilkings\\\" from the north.\"\n",
    "print(txt)\n",
    "\n"
   ]
  },
  {
   "cell_type": "code",
   "execution_count": 70,
   "id": "8d4e5511-d5ec-4079-bac2-08e2aa6dc3d5",
   "metadata": {},
   "outputs": [],
   "source": [
    " # string method \n",
    "# capitalize() : converts the first character to upper case\n",
    "# casefold() : converts string into lower case\n",
    "# center() : Returns a string center\n",
    "# count() : return the number of times a specificed value occurs in a string\n",
    "# encode() : return an encoded version of the string\n",
    "# endswitch() : return true if the string ends with the specific value\n",
    "# expandtabs() : sets the tab size of the string \n",
    "# find () : searches the string for a specific value and returns the position of where it was found\n",
    "# format() : formats specificed values in string\n",
    "# format_map() : formats specificed values in a string\n",
    "# index() : searches the string for specified value and returns the position of where it was found\n",
    "# and have string method more"
   ]
  },
  {
   "cell_type": "code",
   "execution_count": 2,
   "id": "7be32ab0-9c8f-4d33-9787-c1328be56d38",
   "metadata": {},
   "outputs": [
    {
     "name": "stdout",
     "output_type": "stream",
     "text": [
      "b is not greater than a\n"
     ]
    }
   ],
   "source": [
    "# boolean \n",
    "a = 200\n",
    "b = 33\n",
    "if b > a:\n",
    "    print(\"b is greater than a\")\n",
    "else:\n",
    "    print(\"b is not greater than a\")\n",
    "\n",
    "    "
   ]
  },
  {
   "cell_type": "code",
   "execution_count": 6,
   "id": "9168c3cd-ef1e-494f-8e3c-c57f88c3713e",
   "metadata": {},
   "outputs": [
    {
     "name": "stdout",
     "output_type": "stream",
     "text": [
      "True\n",
      "True\n"
     ]
    }
   ],
   "source": [
    "# bool() function allow we to evaluate any value, and give true or false in return\n",
    "print(bool(\"hello\"))\n",
    "print(bool(15))"
   ]
  },
  {
   "cell_type": "code",
   "execution_count": 9,
   "id": "27ff771f-f71a-470c-b58f-e6960b123e39",
   "metadata": {},
   "outputs": [
    {
     "name": "stdout",
     "output_type": "stream",
     "text": [
      "True\n",
      "True\n"
     ]
    }
   ],
   "source": [
    "# evaluate two variables\n",
    "x = \"Hello\"\n",
    "y = 15\n",
    "print(bool(x))\n",
    "print(bool(y))"
   ]
  },
  {
   "cell_type": "code",
   "execution_count": 13,
   "id": "4d2df178-5faa-4e16-b1b8-60d8fa3a3a0b",
   "metadata": {},
   "outputs": [
    {
     "name": "stdout",
     "output_type": "stream",
     "text": [
      "True True True\n"
     ]
    }
   ],
   "source": [
    "# most values are true\n",
    "# almost any value is evaluate to True if it has some sort of content\n",
    "# any string is True, except empty strings\n",
    "# any number is True, except 0 \n",
    "# any list, tuple, set and dictionary are True, except empty ones.\n",
    "a = bool(\"abc\")\n",
    "b = bool(123)\n",
    "c = bool([\"apple\", \"cherry\", \"banana\"])\n",
    "print(a, b, c)\n"
   ]
  },
  {
   "cell_type": "code",
   "execution_count": 17,
   "id": "347388fe-ad33-4fcc-8d1f-c51d866e2d13",
   "metadata": {},
   "outputs": [
    {
     "name": "stdout",
     "output_type": "stream",
     "text": [
      "False False False False False False False\n"
     ]
    }
   ],
   "source": [
    "# Some value are false \n",
    "# In fact, there are not many values that evaluate to false\n",
    "# Except empty values, such as (), [], {}, \"\", the number 0, and the value none.\n",
    "# And of course the value False evaluates to False\n",
    "a = bool(False)\n",
    "b = bool(None)\n",
    "c = bool(0)\n",
    "d = bool(\"\")\n",
    "e = bool(())\n",
    "f = bool([])\n",
    "g = bool({})\n",
    "print(a, b, c, d, e, f, g, )"
   ]
  },
  {
   "cell_type": "code",
   "execution_count": 21,
   "id": "c727da8a-03be-42f8-90dc-cca494a578fb",
   "metadata": {},
   "outputs": [
    {
     "name": "stdout",
     "output_type": "stream",
     "text": [
      "True\n"
     ]
    }
   ],
   "source": [
    "# functions can return a boolean\n",
    "def myFunction() :\n",
    "    return True\n",
    "print(myFunction())"
   ]
  },
  {
   "cell_type": "code",
   "execution_count": 25,
   "id": "d298b7a3-4b9c-48be-a622-ad4646eccfbd",
   "metadata": {},
   "outputs": [
    {
     "name": "stdout",
     "output_type": "stream",
     "text": [
      "YES!\n"
     ]
    }
   ],
   "source": [
    "def myFunction() :\n",
    "    return True\n",
    "if myFunction():\n",
    "    print(\"YES!\")\n",
    "else:\n",
    "    print(\"No!\")\n",
    "\n"
   ]
  },
  {
   "cell_type": "code",
   "execution_count": 29,
   "id": "0b915d0e-446e-492a-b139-b04feac8f167",
   "metadata": {},
   "outputs": [
    {
     "name": "stdout",
     "output_type": "stream",
     "text": [
      "True\n"
     ]
    }
   ],
   "source": [
    "# python aslo has many built-in functions that return a boolean value\n",
    "# like isinstance() function, which can be used to determine\n",
    "# if an object is of a certain data type:\n",
    "x = 200\n",
    "print(isinstance(x, int))"
   ]
  },
  {
   "cell_type": "code",
   "execution_count": 33,
   "id": "b9ace97b-9f85-4b2b-bc6e-c72e4c873af0",
   "metadata": {},
   "outputs": [
    {
     "name": "stdout",
     "output_type": "stream",
     "text": [
      "15\n"
     ]
    }
   ],
   "source": [
    "# python operator \n",
    "print(10+5)"
   ]
  },
  {
   "cell_type": "code",
   "execution_count": 37,
   "id": "bf4261be-c9cd-4dc8-84a0-79ad493b6bb4",
   "metadata": {},
   "outputs": [],
   "source": [
    "# Python Arithmetic Operators : +, - , *, /, %, **, //\n",
    "# Python Assignment operators: =, +=, -=, *=, /=, %=, //=, **=, &=, |=, ^=, >>=, <<=\n",
    "# Python Comparison Operators: == equal, != not equal, > greater than, < less than\n",
    " # >= greater than or equal to, <= less than or equal to\n",
    "# Python logical Operators: and, or, not\n",
    "# Python identity operator: is, is not\n",
    "# Python membership operator: in, not in\n",
    "# Python Bitwise Operator (use to compare number) : &, |, ^, ~, <<, >>, \n",
    "\n"
   ]
  },
  {
   "cell_type": "code",
   "execution_count": 41,
   "id": "3aba8433-54be-43f2-b5b9-2dab962eb381",
   "metadata": {},
   "outputs": [
    {
     "name": "stdout",
     "output_type": "stream",
     "text": [
      "['apple', 'banana', 'cherry']\n"
     ]
    }
   ],
   "source": [
    "# Python List\n",
    "# List: are used to store multiple items in a single variable\n",
    "thislist = [\"apple\", \"banana\", \"cherry\"]\n",
    "print(thislist)\n"
   ]
  },
  {
   "cell_type": "code",
   "execution_count": 43,
   "id": "fab8e93a-852b-4f31-99a9-91690665ed66",
   "metadata": {},
   "outputs": [],
   "source": [
    "# List Items: are ordered, changeable, and allow duplicate values\n",
    "# List Items are indexed, the first item has index [0], the second item has index [1]\n",
    "# Ordered: when we say that lists are ordered, it means that the items have a defined \n",
    "    # order and that order will not change\n",
    "# Changeable: The list is changeable, meaning that we can change, add and remove items in \n",
    "    # a list after it has been created.\n"
   ]
  },
  {
   "cell_type": "code",
   "execution_count": 47,
   "id": "a02daa29-2fe0-4fce-8f6e-3ca52a7e1ce1",
   "metadata": {},
   "outputs": [
    {
     "name": "stdout",
     "output_type": "stream",
     "text": [
      "['apple', 'banna', 'cherry', 'apple', 'cherry']\n"
     ]
    }
   ],
   "source": [
    "# Allow Duplicate\n",
    "thislist = [\"apple\", \"banna\", \"cherry\", \"apple\", \"cherry\"]\n",
    "print(thislist)"
   ]
  },
  {
   "cell_type": "code",
   "execution_count": 51,
   "id": "9ecdceb4-c945-4127-999a-e9cd93e421f7",
   "metadata": {},
   "outputs": [
    {
     "name": "stdout",
     "output_type": "stream",
     "text": [
      "3\n"
     ]
    }
   ],
   "source": [
    "# list Length: to determine how many items a list has, use the len() function \n",
    "thislist = [\"apple\", \"banana\", \"cherry\"]\n",
    "print(len(thislist))"
   ]
  },
  {
   "cell_type": "code",
   "execution_count": 55,
   "id": "b9f10841-7b70-4b96-9820-71250ebfcaaa",
   "metadata": {},
   "outputs": [
    {
     "name": "stdout",
     "output_type": "stream",
     "text": [
      "<class 'list'>\n",
      "<class 'list'>\n",
      "<class 'list'>\n"
     ]
    }
   ],
   "source": [
    "# list Items - Data Type\n",
    "list1 = [\"apple\", \"banana\", \"cherry\"]\n",
    "list2 = [1,5,7,9,3]\n",
    "list3 = [True, False,False]\n",
    "print(type(list1))\n",
    "print(type(list2))\n",
    "print(type(list3))"
   ]
  },
  {
   "cell_type": "code",
   "execution_count": 59,
   "id": "3e6bdc1e-24f7-43af-bcb8-b1268682141f",
   "metadata": {},
   "outputs": [
    {
     "name": "stdout",
     "output_type": "stream",
     "text": [
      "['apple', 'banana', 'cherry']\n"
     ]
    }
   ],
   "source": [
    "# list() constructor\n",
    "# it is also possible to use list() constructor when creating a new list\n",
    "thislist = list((\"apple\", \"banana\", \"cherry\")) # note the double round-brackets\n",
    "print(thislist)"
   ]
  },
  {
   "cell_type": "code",
   "execution_count": 63,
   "id": "d4d1284b-87c0-4ac2-b712-81e2fdf403e3",
   "metadata": {},
   "outputs": [
    {
     "name": "stdout",
     "output_type": "stream",
     "text": [
      "banna\n"
     ]
    }
   ],
   "source": [
    "# Python - Access list Items\n",
    "thislist = [\"apple\", \"banna\", \"cherry\"]\n",
    "print(thislist[1])"
   ]
  },
  {
   "cell_type": "code",
   "execution_count": 67,
   "id": "c6bae45c-a09b-487a-b018-63a9dcad9ef3",
   "metadata": {},
   "outputs": [
    {
     "name": "stdout",
     "output_type": "stream",
     "text": [
      "cherry\n"
     ]
    }
   ],
   "source": [
    "# negative index\n",
    "# negative index means start from the end\n",
    "thislist = [\"apple\", \"banana\", \"cherry\"]\n",
    "print(thislist[-1])"
   ]
  },
  {
   "cell_type": "code",
   "execution_count": 71,
   "id": "3a5283ee-5d43-4d50-8319-778a5ad8266e",
   "metadata": {},
   "outputs": [
    {
     "name": "stdout",
     "output_type": "stream",
     "text": [
      "['cherry', 'orange', 'kiwi']\n"
     ]
    }
   ],
   "source": [
    "# Range of index\n",
    "thislist = [\"apple\", \"banana\", \"cherry\", \"orange\", \"kiwi\", \"melon\", \"mango\"]\n",
    "print(thislist[2:5])"
   ]
  },
  {
   "cell_type": "code",
   "execution_count": 75,
   "id": "12dcb567-bee4-4901-89dc-37641b475cb7",
   "metadata": {},
   "outputs": [
    {
     "name": "stdout",
     "output_type": "stream",
     "text": [
      "['apple', 'banana', 'cherry', 'orange']\n"
     ]
    }
   ],
   "source": [
    "# by leaving out the start value, the range will start at the first item\n",
    "thislist = [\"apple\", \"banana\", \"cherry\", \"orange\", \"kiwi\", \"melon\", \"mango\"]\n",
    "print(thislist[:4])"
   ]
  },
  {
   "cell_type": "code",
   "execution_count": 81,
   "id": "e977b2b7-13fb-4904-8f1b-725c7e9b0aa5",
   "metadata": {},
   "outputs": [
    {
     "name": "stdout",
     "output_type": "stream",
     "text": [
      "['cherry', 'orange', 'kiwi', 'melon', 'mango']\n"
     ]
    }
   ],
   "source": [
    "# leaving out the end value, the range will go on to the end of the list\n",
    "thislist = [\"apple\", \"banana\", \"cherry\", \"orange\", \"kiwi\", \"melon\", \"mango\"]\n",
    "print(thislist[2:])"
   ]
  },
  {
   "cell_type": "code",
   "execution_count": 85,
   "id": "cb93f0d0-859f-47d5-ba20-79f22baefe32",
   "metadata": {},
   "outputs": [
    {
     "name": "stdout",
     "output_type": "stream",
     "text": [
      "['orange', 'kiwi', 'melon']\n"
     ]
    }
   ],
   "source": [
    "# Range of Negative index \n",
    "thislist = [\"apple\", \"banana\", \"cherry\", \"orange\", \"kiwi\", \"melon\", \"mango\"]\n",
    "print(thislist[-4:-1])"
   ]
  },
  {
   "cell_type": "code",
   "execution_count": 89,
   "id": "2eed1299-9a35-4fc3-a797-3a9823da9d1b",
   "metadata": {},
   "outputs": [
    {
     "name": "stdout",
     "output_type": "stream",
     "text": [
      "yes apple is in the fruits list\n"
     ]
    }
   ],
   "source": [
    "# check if item exists\n",
    "thislist = [\"apple\", \"banana\", \"cherry\"]\n",
    "if \"apple\" in thislist:\n",
    "    print(\"yes\", \"apple is in the fruits list\")"
   ]
  },
  {
   "cell_type": "code",
   "execution_count": 93,
   "id": "85079565-0338-4d24-97e1-0602854bedce",
   "metadata": {},
   "outputs": [
    {
     "name": "stdout",
     "output_type": "stream",
     "text": [
      "['apple', 'blackcurrant', 'cherry']\n"
     ]
    }
   ],
   "source": [
    "# change item list\n",
    "thislist = [\"apple\", \"banana\", \"cherry\"]\n",
    "thislist[1] = \"blackcurrant\"\n",
    "print(thislist)"
   ]
  },
  {
   "cell_type": "code",
   "execution_count": 99,
   "id": "0b696496-98fc-471b-bd3d-bb67c2e39117",
   "metadata": {},
   "outputs": [
    {
     "name": "stdout",
     "output_type": "stream",
     "text": [
      "['apple', 'blackcurrant', 'watermelon', 'orange', 'kiwi', 'mango']\n"
     ]
    }
   ],
   "source": [
    "# change range of items value\n",
    "thislist = [\"apple\", \"banana\", \"cherry\", \"orange\", \"kiwi\", \"mango\"]\n",
    "thislist[1:3] = [\"blackcurrant\", \"watermelon\"]\n",
    "print(thislist)"
   ]
  },
  {
   "cell_type": "code",
   "execution_count": 103,
   "id": "196c073d-5622-4b8c-99fe-5e65b37087ee",
   "metadata": {},
   "outputs": [
    {
     "name": "stdout",
     "output_type": "stream",
     "text": [
      "['apple', 'blackcurrant', 'watermelon', 'cherry']\n"
     ]
    }
   ],
   "source": [
    "# change the second value by replacing it with two new values\n",
    "thislist = [\"apple\", \"banana\", \"cherry\"]\n",
    "thislist[1:2] = [\"blackcurrant\", \"watermelon\"]\n",
    "print(thislist)"
   ]
  },
  {
   "cell_type": "code",
   "execution_count": 107,
   "id": "4803216a-2d9a-4cd5-ad7d-28504fffdec6",
   "metadata": {},
   "outputs": [
    {
     "name": "stdout",
     "output_type": "stream",
     "text": [
      "['apple', 'watermelon']\n"
     ]
    }
   ],
   "source": [
    "# change the second value and the third value by replacing one value\n",
    "thislist = [\"apple\", \"banana\", \"cherry\"]\n",
    "thislist[1:3] = [\"watermelon\"]\n",
    "print(thislist)"
   ]
  },
  {
   "cell_type": "code",
   "execution_count": 109,
   "id": "c8c6f825-85fe-4657-90a1-818093d1972c",
   "metadata": {},
   "outputs": [
    {
     "name": "stdout",
     "output_type": "stream",
     "text": [
      "['apple', 'banana', 'watermelo', 'cherry']\n"
     ]
    }
   ],
   "source": [
    "# insert item\n",
    "# insert() method inserts an item at the specificed index\n",
    "thislist = [\"apple\", \"banana\", \"cherry\"]\n",
    "thislist.insert(2, \"watermelon\")\n",
    "print(thislist)"
   ]
  }
 ],
 "metadata": {
  "kernelspec": {
   "display_name": "Python 3 (ipykernel)",
   "language": "python",
   "name": "python3"
  },
  "language_info": {
   "codemirror_mode": {
    "name": "ipython",
    "version": 3
   },
   "file_extension": ".py",
   "mimetype": "text/x-python",
   "name": "python",
   "nbconvert_exporter": "python",
   "pygments_lexer": "ipython3",
   "version": "3.12.4"
  }
 },
 "nbformat": 4,
 "nbformat_minor": 5
}
